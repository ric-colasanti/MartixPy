{
 "cells": [
  {
   "cell_type": "code",
   "execution_count": 1,
   "id": "93db7cdb-9410-4f6b-838d-a979a0176a4f",
   "metadata": {},
   "outputs": [],
   "source": [
    "import random as rnd"
   ]
  },
  {
   "cell_type": "code",
   "execution_count": 2,
   "id": "f3499f65-ee2d-4238-906a-c54bb1e68728",
   "metadata": {},
   "outputs": [],
   "source": [
    "def rand_between( low, high ):\n",
    "    low = low\n",
    "    high = high\n",
    "    def innerfunction(a):\n",
    "        return rnd.random()*(high-low)+low * a\n",
    "    return innerfunction\n"
   ]
  },
  {
   "cell_type": "code",
   "execution_count": 5,
   "id": "d4016807-1211-44be-9891-18e26eb002e8",
   "metadata": {},
   "outputs": [],
   "source": [
    "randomtest_2_8 = rand_between(2,8)"
   ]
  },
  {
   "cell_type": "code",
   "execution_count": 4,
   "id": "8787bd25-20af-460c-a6ad-7040c4b5f495",
   "metadata": {},
   "outputs": [
    {
     "data": {
      "text/plain": [
       "3.8749502702932794"
      ]
     },
     "execution_count": 4,
     "metadata": {},
     "output_type": "execute_result"
    }
   ],
   "source": [
    "for _ in range(20randomtest_2_8(1)"
   ]
  },
  {
   "cell_type": "code",
   "execution_count": null,
   "id": "2a0f1406-7b4d-4442-96c5-4163e7b61fad",
   "metadata": {},
   "outputs": [],
   "source": []
  }
 ],
 "metadata": {
  "kernelspec": {
   "display_name": "Python 3 (ipykernel)",
   "language": "python",
   "name": "python3"
  },
  "language_info": {
   "codemirror_mode": {
    "name": "ipython",
    "version": 3
   },
   "file_extension": ".py",
   "mimetype": "text/x-python",
   "name": "python",
   "nbconvert_exporter": "python",
   "pygments_lexer": "ipython3",
   "version": "3.11.6"
  }
 },
 "nbformat": 4,
 "nbformat_minor": 5
}
